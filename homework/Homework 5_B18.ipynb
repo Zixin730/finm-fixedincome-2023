{
 "cells": [
  {
   "attachments": {},
   "cell_type": "markdown",
   "id": "3e013a68",
   "metadata": {},
   "source": [
    "# Homework 5\n",
    "\n",
    "## FINM 37400 - 2023\n",
    "\n",
    "### UChicago Financial Mathematics"
   ]
  },
  {
   "cell_type": "code",
   "execution_count": 2,
   "id": "c66aeac8",
   "metadata": {},
   "outputs": [],
   "source": [
    "import pandas as pd\n",
    "import numpy as np\n",
    "import datetime\n",
    "import warnings\n",
    "\n",
    "from sklearn.linear_model import LinearRegression\n",
    "from scipy.optimize import minimize\n",
    "from scipy.optimize import fsolve\n",
    "\n",
    "import matplotlib.pyplot as plt\n",
    "%matplotlib inline\n",
    "plt.rcParams['figure.figsize'] = (12, 6)\n",
    "plt.rcParams['font.size'] = 15\n",
    "plt.rcParams['legend.fontsize'] = 13\n",
    "pd.set_option(\"display.precision\", 4)\n",
    "\n",
    "import sys\n",
    "sys.path.insert(0, '../cmds')\n",
    "from treasury_cmds import *"
   ]
  },
  {
   "cell_type": "markdown",
   "id": "c509a321",
   "metadata": {},
   "source": [
    "# 1. Forward Rates"
   ]
  },
  {
   "cell_type": "markdown",
   "id": "d31bd42d",
   "metadata": {},
   "source": [
    "Use the data set `treasury_zero_coupon_2022-12-30.xlsx`.\n",
    "\n",
    "It gives prices on **zero coupon bonds** with maturities of 1 through 5 years.\n",
    "* These are prices per \\\\$1 face value on bonds that only pay principal.\n",
    "* Such bonds can be created from treasuries by *stripping* out their coupons.\n",
    "* In essence, you can consider these prices as the discount factors $Z$, for maturity intervals 1 through 5 years.\n",
    "\n",
    "In this problem, we focus on six dates: the month of December in 2017 through 2022."
   ]
  },
  {
   "cell_type": "code",
   "execution_count": 3,
   "id": "c209d79f",
   "metadata": {},
   "outputs": [
    {
     "data": {
      "text/html": [
       "<div>\n",
       "<style scoped>\n",
       "    .dataframe tbody tr th:only-of-type {\n",
       "        vertical-align: middle;\n",
       "    }\n",
       "\n",
       "    .dataframe tbody tr th {\n",
       "        vertical-align: top;\n",
       "    }\n",
       "\n",
       "    .dataframe thead th {\n",
       "        text-align: right;\n",
       "    }\n",
       "</style>\n",
       "<table border=\"1\" class=\"dataframe\">\n",
       "  <thead>\n",
       "    <tr style=\"text-align: right;\">\n",
       "      <th></th>\n",
       "      <th>1</th>\n",
       "      <th>2</th>\n",
       "      <th>3</th>\n",
       "      <th>4</th>\n",
       "      <th>5</th>\n",
       "    </tr>\n",
       "    <tr>\n",
       "      <th>date</th>\n",
       "      <th></th>\n",
       "      <th></th>\n",
       "      <th></th>\n",
       "      <th></th>\n",
       "      <th></th>\n",
       "    </tr>\n",
       "  </thead>\n",
       "  <tbody>\n",
       "    <tr>\n",
       "      <th>1952-06-30</th>\n",
       "      <td>0.9818</td>\n",
       "      <td>0.9625</td>\n",
       "      <td>0.9425</td>\n",
       "      <td>0.9263</td>\n",
       "      <td>0.9042</td>\n",
       "    </tr>\n",
       "    <tr>\n",
       "      <th>1952-07-31</th>\n",
       "      <td>0.9809</td>\n",
       "      <td>0.9603</td>\n",
       "      <td>0.9393</td>\n",
       "      <td>0.9231</td>\n",
       "      <td>0.8985</td>\n",
       "    </tr>\n",
       "    <tr>\n",
       "      <th>1952-08-29</th>\n",
       "      <td>0.9806</td>\n",
       "      <td>0.9597</td>\n",
       "      <td>0.9378</td>\n",
       "      <td>0.9215</td>\n",
       "      <td>0.8957</td>\n",
       "    </tr>\n",
       "    <tr>\n",
       "      <th>1952-09-30</th>\n",
       "      <td>0.9803</td>\n",
       "      <td>0.9591</td>\n",
       "      <td>0.9376</td>\n",
       "      <td>0.9210</td>\n",
       "      <td>0.8917</td>\n",
       "    </tr>\n",
       "    <tr>\n",
       "      <th>1952-10-31</th>\n",
       "      <td>0.9811</td>\n",
       "      <td>0.9597</td>\n",
       "      <td>0.9376</td>\n",
       "      <td>0.9193</td>\n",
       "      <td>0.8972</td>\n",
       "    </tr>\n",
       "  </tbody>\n",
       "</table>\n",
       "</div>"
      ],
      "text/plain": [
       "                 1       2       3       4       5\n",
       "date                                              \n",
       "1952-06-30  0.9818  0.9625  0.9425  0.9263  0.9042\n",
       "1952-07-31  0.9809  0.9603  0.9393  0.9231  0.8985\n",
       "1952-08-29  0.9806  0.9597  0.9378  0.9215  0.8957\n",
       "1952-09-30  0.9803  0.9591  0.9376  0.9210  0.8917\n",
       "1952-10-31  0.9811  0.9597  0.9376  0.9193  0.8972"
      ]
     },
     "execution_count": 3,
     "metadata": {},
     "output_type": "execute_result"
    }
   ],
   "source": [
    "ZeroCoupon = pd.read_excel(\"../data/treasury_zero_coupon_2022-12-30.xlsx\", index_col=0)\n",
    "ZeroCoupon.head()"
   ]
  },
  {
   "cell_type": "code",
   "execution_count": 4,
   "id": "dfff460c",
   "metadata": {},
   "outputs": [
    {
     "data": {
      "text/html": [
       "<div>\n",
       "<style scoped>\n",
       "    .dataframe tbody tr th:only-of-type {\n",
       "        vertical-align: middle;\n",
       "    }\n",
       "\n",
       "    .dataframe tbody tr th {\n",
       "        vertical-align: top;\n",
       "    }\n",
       "\n",
       "    .dataframe thead th {\n",
       "        text-align: right;\n",
       "    }\n",
       "</style>\n",
       "<table border=\"1\" class=\"dataframe\">\n",
       "  <thead>\n",
       "    <tr style=\"text-align: right;\">\n",
       "      <th></th>\n",
       "      <th>1</th>\n",
       "      <th>2</th>\n",
       "      <th>3</th>\n",
       "      <th>4</th>\n",
       "      <th>5</th>\n",
       "    </tr>\n",
       "    <tr>\n",
       "      <th>date</th>\n",
       "      <th></th>\n",
       "      <th></th>\n",
       "      <th></th>\n",
       "      <th></th>\n",
       "      <th></th>\n",
       "    </tr>\n",
       "  </thead>\n",
       "  <tbody>\n",
       "    <tr>\n",
       "      <th>2017-12-29</th>\n",
       "      <td>0.9824</td>\n",
       "      <td>0.9631</td>\n",
       "      <td>0.9424</td>\n",
       "      <td>0.9189</td>\n",
       "      <td>0.8956</td>\n",
       "    </tr>\n",
       "    <tr>\n",
       "      <th>2018-12-31</th>\n",
       "      <td>0.9743</td>\n",
       "      <td>0.9520</td>\n",
       "      <td>0.9293</td>\n",
       "      <td>0.9058</td>\n",
       "      <td>0.8826</td>\n",
       "    </tr>\n",
       "    <tr>\n",
       "      <th>2019-12-31</th>\n",
       "      <td>0.9844</td>\n",
       "      <td>0.9689</td>\n",
       "      <td>0.9530</td>\n",
       "      <td>0.9357</td>\n",
       "      <td>0.9189</td>\n",
       "    </tr>\n",
       "    <tr>\n",
       "      <th>2020-12-31</th>\n",
       "      <td>0.9990</td>\n",
       "      <td>0.9975</td>\n",
       "      <td>0.9953</td>\n",
       "      <td>0.9895</td>\n",
       "      <td>0.9815</td>\n",
       "    </tr>\n",
       "    <tr>\n",
       "      <th>2021-12-31</th>\n",
       "      <td>0.9962</td>\n",
       "      <td>0.9855</td>\n",
       "      <td>0.9713</td>\n",
       "      <td>0.9549</td>\n",
       "      <td>0.9387</td>\n",
       "    </tr>\n",
       "    <tr>\n",
       "      <th>2022-12-30</th>\n",
       "      <td>0.9546</td>\n",
       "      <td>0.9162</td>\n",
       "      <td>0.8833</td>\n",
       "      <td>0.8510</td>\n",
       "      <td>0.8203</td>\n",
       "    </tr>\n",
       "  </tbody>\n",
       "</table>\n",
       "</div>"
      ],
      "text/plain": [
       "                 1       2       3       4       5\n",
       "date                                              \n",
       "2017-12-29  0.9824  0.9631  0.9424  0.9189  0.8956\n",
       "2018-12-31  0.9743  0.9520  0.9293  0.9058  0.8826\n",
       "2019-12-31  0.9844  0.9689  0.9530  0.9357  0.9189\n",
       "2020-12-31  0.9990  0.9975  0.9953  0.9895  0.9815\n",
       "2021-12-31  0.9962  0.9855  0.9713  0.9549  0.9387\n",
       "2022-12-30  0.9546  0.9162  0.8833  0.8510  0.8203"
      ]
     },
     "execution_count": 4,
     "metadata": {},
     "output_type": "execute_result"
    }
   ],
   "source": [
    "sample = ZeroCoupon[(ZeroCoupon.index > \"2017\") & (ZeroCoupon.index < \"2023\") & (ZeroCoupon.index.month == 12)].copy()\n",
    "sample"
   ]
  },
  {
   "cell_type": "markdown",
   "id": "19845af0",
   "metadata": {},
   "source": [
    "## 1.1\n",
    "\n",
    "For each of the six dates, (Dec 2017, Dec 2018, ...), calculate the forward discount factor, $F(t,T_1,T_2)$, where $T_2 = T_1 + 1$ for $1\\le T_1\\le 4$.\n",
    "\n",
    "Make a plot of the curve $F$ at each of these six dates."
   ]
  },
  {
   "cell_type": "code",
   "execution_count": 5,
   "id": "8844a02a",
   "metadata": {},
   "outputs": [],
   "source": [
    "Forward = sample.copy()\n",
    "Forward[[2,3,4,5]] = sample.values[:, 1:]/sample.values[:, :-1]\n",
    "Forward.columns = list(range(5))\n",
    "Forward = Forward.T"
   ]
  },
  {
   "cell_type": "code",
   "execution_count": 6,
   "id": "9585dcab",
   "metadata": {},
   "outputs": [
    {
     "data": {
      "text/html": [
       "<div>\n",
       "<style scoped>\n",
       "    .dataframe tbody tr th:only-of-type {\n",
       "        vertical-align: middle;\n",
       "    }\n",
       "\n",
       "    .dataframe tbody tr th {\n",
       "        vertical-align: top;\n",
       "    }\n",
       "\n",
       "    .dataframe thead th {\n",
       "        text-align: right;\n",
       "    }\n",
       "</style>\n",
       "<table border=\"1\" class=\"dataframe\">\n",
       "  <thead>\n",
       "    <tr style=\"text-align: right;\">\n",
       "      <th>date</th>\n",
       "      <th>2017-12-29</th>\n",
       "      <th>2018-12-31</th>\n",
       "      <th>2019-12-31</th>\n",
       "      <th>2020-12-31</th>\n",
       "      <th>2021-12-31</th>\n",
       "      <th>2022-12-30</th>\n",
       "    </tr>\n",
       "  </thead>\n",
       "  <tbody>\n",
       "    <tr>\n",
       "      <th>0</th>\n",
       "      <td>0.9824</td>\n",
       "      <td>0.9743</td>\n",
       "      <td>0.9844</td>\n",
       "      <td>0.9990</td>\n",
       "      <td>0.9962</td>\n",
       "      <td>0.9546</td>\n",
       "    </tr>\n",
       "    <tr>\n",
       "      <th>1</th>\n",
       "      <td>0.9804</td>\n",
       "      <td>0.9771</td>\n",
       "      <td>0.9843</td>\n",
       "      <td>0.9986</td>\n",
       "      <td>0.9893</td>\n",
       "      <td>0.9598</td>\n",
       "    </tr>\n",
       "    <tr>\n",
       "      <th>2</th>\n",
       "      <td>0.9785</td>\n",
       "      <td>0.9762</td>\n",
       "      <td>0.9835</td>\n",
       "      <td>0.9978</td>\n",
       "      <td>0.9855</td>\n",
       "      <td>0.9641</td>\n",
       "    </tr>\n",
       "    <tr>\n",
       "      <th>3</th>\n",
       "      <td>0.9750</td>\n",
       "      <td>0.9747</td>\n",
       "      <td>0.9819</td>\n",
       "      <td>0.9941</td>\n",
       "      <td>0.9831</td>\n",
       "      <td>0.9634</td>\n",
       "    </tr>\n",
       "    <tr>\n",
       "      <th>4</th>\n",
       "      <td>0.9747</td>\n",
       "      <td>0.9744</td>\n",
       "      <td>0.9820</td>\n",
       "      <td>0.9920</td>\n",
       "      <td>0.9830</td>\n",
       "      <td>0.9639</td>\n",
       "    </tr>\n",
       "  </tbody>\n",
       "</table>\n",
       "</div>"
      ],
      "text/plain": [
       "date  2017-12-29  2018-12-31  2019-12-31  2020-12-31  2021-12-31  2022-12-30\n",
       "0         0.9824      0.9743      0.9844      0.9990      0.9962      0.9546\n",
       "1         0.9804      0.9771      0.9843      0.9986      0.9893      0.9598\n",
       "2         0.9785      0.9762      0.9835      0.9978      0.9855      0.9641\n",
       "3         0.9750      0.9747      0.9819      0.9941      0.9831      0.9634\n",
       "4         0.9747      0.9744      0.9820      0.9920      0.9830      0.9639"
      ]
     },
     "execution_count": 6,
     "metadata": {},
     "output_type": "execute_result"
    }
   ],
   "source": [
    "Forward"
   ]
  },
  {
   "cell_type": "code",
   "execution_count": 7,
   "id": "8e255512",
   "metadata": {},
   "outputs": [
    {
     "data": {
      "text/plain": [
       "Text(0, 0.5, 'discount factor')"
      ]
     },
     "execution_count": 7,
     "metadata": {},
     "output_type": "execute_result"
    },
    {
     "data": {
      "image/png": "[encoded data removed]",
      "text/plain": [
       "<Figure size 432x288 with 1 Axes>"
      ]
     },
     "metadata": {
      "needs_background": "light"
     },
     "output_type": "display_data"
    }
   ],
   "source": [
    "plt.plot(Forward)\n",
    "plt.title(\"Forward Discount Factor(One Year)\")\n",
    "plt.legend(Forward.columns, loc='best')\n",
    "plt.xlabel(\"year\")\n",
    "plt.ylabel(\"discount factor\")"
   ]
  },
  {
   "cell_type": "markdown",
   "id": "43ff9ac2",
   "metadata": {},
   "source": [
    "## 1.2\n",
    "\n"
   ]
  },
  {
   "cell_type": "markdown",
   "id": "3dafd627",
   "metadata": {},
   "source": [
    "Use $F$ above to calculate the continuously compounded forward rates, $f$, at the six dates.\n",
    "\n",
    "Make a plot of the curve, $f$, at each of these six dates."
   ]
  },
  {
   "cell_type": "code",
   "execution_count": 8,
   "id": "7da8d34d",
   "metadata": {},
   "outputs": [
    {
     "data": {
      "text/plain": [
       "Text(0, 0.5, 'forward rate')"
      ]
     },
     "execution_count": 8,
     "metadata": {},
     "output_type": "execute_result"
    },
    {
     "data": {
      "image/png": "[encoded data removed]",
      "text/plain": [
       "<Figure size 432x288 with 1 Axes>"
      ]
     },
     "metadata": {
      "needs_background": "light"
     },
     "output_type": "display_data"
    }
   ],
   "source": [
    "f = - np.log(Forward)\n",
    "plt.plot(f)\n",
    "plt.title(\"Forward Rate(Continously)\")\n",
    "plt.legend(f.columns, loc='best')\n",
    "plt.xlabel(\"year\")\n",
    "plt.ylabel(\"forward rate\")"
   ]
  },
  {
   "cell_type": "markdown",
   "id": "f65d4d51",
   "metadata": {},
   "source": [
    "## 1.3\n",
    "\n",
    "Calculate the continuously compounded spot rates, $r$, at the six dates.\n",
    "\n",
    "Plot both the forward curve and the spot curve on the date of Dec 2017.\n",
    "\n",
    "Recall that $f(t,t,t+1) = r(t,t+1)$."
   ]
  },
  {
   "cell_type": "code",
   "execution_count": 9,
   "id": "9ef1b5d9",
   "metadata": {},
   "outputs": [
    {
     "data": {
      "text/plain": [
       "Text(0, 0.5, 'rate')"
      ]
     },
     "execution_count": 9,
     "metadata": {},
     "output_type": "execute_result"
    },
    {
     "data": {
      "image/png": "[encoded data removed]",
      "text/plain": [
       "<Figure size 432x288 with 1 Axes>"
      ]
     },
     "metadata": {
      "needs_background": "light"
     },
     "output_type": "display_data"
    }
   ],
   "source": [
    "spot_rate = - np.log(sample)/np.array([1, 2, 3, 4, 5])\n",
    "spot_forward = f[[\"2017-12-29\"]].copy()\n",
    "spot_forward[\"spot rate\"] = spot_rate.values[0, :].T\n",
    "spot_forward.columns = [\"2017-12-29 forward\", \"2017-12-29 spot rate\"]\n",
    "spot_forward.plot()\n",
    "plt.title(\"Curve(Continously)\")\n",
    "plt.xlabel(\"year\")\n",
    "plt.ylabel(\"rate\")"
   ]
  },
  {
   "cell_type": "markdown",
   "id": "480da114",
   "metadata": {},
   "source": [
    "## 1.4\n",
    "\n",
    "Plot the forward curve on Dec 2017 against the time-series evolution of $r(t,t+1)$ for dates $t$ between Dec 2017 and Dec 2021.\n",
    "\n",
    "How does the evolution of one-year rates between 2017-2021 compare to the forward rates of 2017?"
   ]
  },
  {
   "cell_type": "code",
   "execution_count": 10,
   "id": "c9e90c94",
   "metadata": {},
   "outputs": [
    {
     "data": {
      "text/html": [
       "<div>\n",
       "<style scoped>\n",
       "    .dataframe tbody tr th:only-of-type {\n",
       "        vertical-align: middle;\n",
       "    }\n",
       "\n",
       "    .dataframe tbody tr th {\n",
       "        vertical-align: top;\n",
       "    }\n",
       "\n",
       "    .dataframe thead th {\n",
       "        text-align: right;\n",
       "    }\n",
       "</style>\n",
       "<table border=\"1\" class=\"dataframe\">\n",
       "  <thead>\n",
       "    <tr style=\"text-align: right;\">\n",
       "      <th></th>\n",
       "      <th>2017-12-29 forward</th>\n",
       "      <th>2017-12-29 spot rate</th>\n",
       "    </tr>\n",
       "  </thead>\n",
       "  <tbody>\n",
       "    <tr>\n",
       "      <th>0</th>\n",
       "      <td>0.0177</td>\n",
       "      <td>0.0177</td>\n",
       "    </tr>\n",
       "    <tr>\n",
       "      <th>1</th>\n",
       "      <td>0.0198</td>\n",
       "      <td>0.0188</td>\n",
       "    </tr>\n",
       "    <tr>\n",
       "      <th>2</th>\n",
       "      <td>0.0218</td>\n",
       "      <td>0.0198</td>\n",
       "    </tr>\n",
       "    <tr>\n",
       "      <th>3</th>\n",
       "      <td>0.0253</td>\n",
       "      <td>0.0212</td>\n",
       "    </tr>\n",
       "    <tr>\n",
       "      <th>4</th>\n",
       "      <td>0.0256</td>\n",
       "      <td>0.0220</td>\n",
       "    </tr>\n",
       "  </tbody>\n",
       "</table>\n",
       "</div>"
      ],
      "text/plain": [
       "   2017-12-29 forward  2017-12-29 spot rate\n",
       "0              0.0177                0.0177\n",
       "1              0.0198                0.0188\n",
       "2              0.0218                0.0198\n",
       "3              0.0253                0.0212\n",
       "4              0.0256                0.0220"
      ]
     },
     "execution_count": 10,
     "metadata": {},
     "output_type": "execute_result"
    }
   ],
   "source": [
    "spot_forward"
   ]
  },
  {
   "cell_type": "code",
   "execution_count": 11,
   "id": "3e77228f",
   "metadata": {},
   "outputs": [
    {
     "data": {
      "text/plain": [
       "Text(0, 0.5, 'rate')"
      ]
     },
     "execution_count": 11,
     "metadata": {},
     "output_type": "execute_result"
    },
    {
     "data": {
      "image/png": "[encoded data removed]",
      "text/plain": [
       "<Figure size 432x288 with 1 Axes>"
      ]
     },
     "metadata": {
      "needs_background": "light"
     },
     "output_type": "display_data"
    }
   ],
   "source": [
    "spot_forward = f[[\"2017-12-29\"]].copy()\n",
    "spot_forward[\"spot rate\"] = spot_rate.values[:5, 0]\n",
    "spot_forward.columns = [\"2017-12-29 forward\", \"spot rate evolving\"]\n",
    "spot_forward.plot()\n",
    "plt.title(\"Curve(Continously)\")\n",
    "plt.xlabel(\"year\")\n",
    "plt.ylabel(\"rate\")"
   ]
  },
  {
   "cell_type": "markdown",
   "id": "e59463ad",
   "metadata": {},
   "source": [
    "# 2. Carry Trade"
   ]
  },
  {
   "cell_type": "markdown",
   "id": "0e84a1de",
   "metadata": {},
   "source": [
    "## 2.1\n",
    "\n",
    "Suppose it is December 2017, and you determine to implement a carry trade with the following specification...\n",
    "\n",
    "* Long \\\\$100 million of the 5-year zero-coupon bond (maturing Dec 2022.)\n",
    "* Short \\\\$100 million of the 1-year zero-coupon bond (maturing Dec 2018.)\n",
    "* Assume there is a 2% haircut on each side of the trade, so it requires \\\\$4 million of investor capital to initiate it.\n",
    "\n",
    "Trace the profit and loss each year.\n",
    "* Note that each year you will roll over the short position until the trade concludes in Dec 2022.\n",
    "\n",
    "Calculate the total profit and loss when the trade concludes in Dec 2022.\n",
    "* Calculate the total return on the initial \\\\$4 million of investor capital."
   ]
  },
  {
   "cell_type": "code",
   "execution_count": 13,
   "id": "488f5360",
   "metadata": {},
   "outputs": [
    {
     "data": {
      "text/html": [
       "<div>\n",
       "<style scoped>\n",
       "    .dataframe tbody tr th:only-of-type {\n",
       "        vertical-align: middle;\n",
       "    }\n",
       "\n",
       "    .dataframe tbody tr th {\n",
       "        vertical-align: top;\n",
       "    }\n",
       "\n",
       "    .dataframe thead th {\n",
       "        text-align: right;\n",
       "    }\n",
       "</style>\n",
       "<table border=\"1\" class=\"dataframe\">\n",
       "  <thead>\n",
       "    <tr style=\"text-align: right;\">\n",
       "      <th></th>\n",
       "      <th>1</th>\n",
       "      <th>2</th>\n",
       "      <th>3</th>\n",
       "      <th>4</th>\n",
       "      <th>5</th>\n",
       "    </tr>\n",
       "    <tr>\n",
       "      <th>date</th>\n",
       "      <th></th>\n",
       "      <th></th>\n",
       "      <th></th>\n",
       "      <th></th>\n",
       "      <th></th>\n",
       "    </tr>\n",
       "  </thead>\n",
       "  <tbody>\n",
       "    <tr>\n",
       "      <th>2017-12-29</th>\n",
       "      <td>0.9824</td>\n",
       "      <td>0.9631</td>\n",
       "      <td>0.9424</td>\n",
       "      <td>0.9189</td>\n",
       "      <td>0.8956</td>\n",
       "    </tr>\n",
       "    <tr>\n",
       "      <th>2018-12-31</th>\n",
       "      <td>0.9743</td>\n",
       "      <td>0.9520</td>\n",
       "      <td>0.9293</td>\n",
       "      <td>0.9058</td>\n",
       "      <td>0.8826</td>\n",
       "    </tr>\n",
       "    <tr>\n",
       "      <th>2019-12-31</th>\n",
       "      <td>0.9844</td>\n",
       "      <td>0.9689</td>\n",
       "      <td>0.9530</td>\n",
       "      <td>0.9357</td>\n",
       "      <td>0.9189</td>\n",
       "    </tr>\n",
       "    <tr>\n",
       "      <th>2020-12-31</th>\n",
       "      <td>0.9990</td>\n",
       "      <td>0.9975</td>\n",
       "      <td>0.9953</td>\n",
       "      <td>0.9895</td>\n",
       "      <td>0.9815</td>\n",
       "    </tr>\n",
       "    <tr>\n",
       "      <th>2021-12-31</th>\n",
       "      <td>0.9962</td>\n",
       "      <td>0.9855</td>\n",
       "      <td>0.9713</td>\n",
       "      <td>0.9549</td>\n",
       "      <td>0.9387</td>\n",
       "    </tr>\n",
       "    <tr>\n",
       "      <th>2022-12-30</th>\n",
       "      <td>0.9546</td>\n",
       "      <td>0.9162</td>\n",
       "      <td>0.8833</td>\n",
       "      <td>0.8510</td>\n",
       "      <td>0.8203</td>\n",
       "    </tr>\n",
       "  </tbody>\n",
       "</table>\n",
       "</div>"
      ],
      "text/plain": [
       "                 1       2       3       4       5\n",
       "date                                              \n",
       "2017-12-29  0.9824  0.9631  0.9424  0.9189  0.8956\n",
       "2018-12-31  0.9743  0.9520  0.9293  0.9058  0.8826\n",
       "2019-12-31  0.9844  0.9689  0.9530  0.9357  0.9189\n",
       "2020-12-31  0.9990  0.9975  0.9953  0.9895  0.9815\n",
       "2021-12-31  0.9962  0.9855  0.9713  0.9549  0.9387\n",
       "2022-12-30  0.9546  0.9162  0.8833  0.8510  0.8203"
      ]
     },
     "execution_count": 13,
     "metadata": {},
     "output_type": "execute_result"
    }
   ],
   "source": [
    "sample"
   ]
  },
  {
   "cell_type": "code",
   "execution_count": 14,
   "id": "7a5c8b29",
   "metadata": {},
   "outputs": [],
   "source": [
    "pos = 1e8\n",
    "haircut = 0.02\n",
    "PnL = pd.DataFrame(columns=[\"long pos\", \"long pnl\", \"short pos\", \"short pnl\", \"haircut\", \"total pnl\"], index=sample.index)\n",
    "PnL.iloc[0] = [pos, 0, pos, 0, 2*haircut*pos, 0]\n",
    "y = 5\n",
    "for i in range(1, 6):\n",
    "    date = PnL.index[i]\n",
    "    pre_date = PnL.index[i-1]\n",
    "    # short 1 year, roll over\n",
    "    PnL.loc[date, \"short pos\"] = PnL.loc[pre_date, \"short pos\"] / sample.loc[pre_date, 1]\n",
    "    PnL.loc[date, \"haircut\"] = PnL.loc[date, \"short pos\"] * haircut\n",
    "\n",
    "    # long five year\n",
    "    if y > 1:\n",
    "        PnL.loc[date, \"long pos\"] = PnL.loc[pre_date, \"long pos\"] / sample.loc[pre_date, y] * sample.loc[date, y-1]\n",
    "    else:\n",
    "        PnL.loc[date, \"long pos\"] = PnL.loc[pre_date, \"long pos\"] / sample.loc[pre_date, y]\n",
    "    y -= 1\n"
   ]
  },
  {
   "cell_type": "code",
   "execution_count": 15,
   "id": "d69b917b",
   "metadata": {},
   "outputs": [
    {
     "data": {
      "text/html": [
       "<div>\n",
       "<style scoped>\n",
       "    .dataframe tbody tr th:only-of-type {\n",
       "        vertical-align: middle;\n",
       "    }\n",
       "\n",
       "    .dataframe tbody tr th {\n",
       "        vertical-align: top;\n",
       "    }\n",
       "\n",
       "    .dataframe thead th {\n",
       "        text-align: right;\n",
       "    }\n",
       "</style>\n",
       "<table border=\"1\" class=\"dataframe\">\n",
       "  <thead>\n",
       "    <tr style=\"text-align: right;\">\n",
       "      <th></th>\n",
       "      <th>long pos</th>\n",
       "      <th>long pnl</th>\n",
       "      <th>short pos</th>\n",
       "      <th>short pnl</th>\n",
       "      <th>haircut</th>\n",
       "      <th>total pnl</th>\n",
       "      <th>cumulative pnl</th>\n",
       "    </tr>\n",
       "    <tr>\n",
       "      <th>date</th>\n",
       "      <th></th>\n",
       "      <th></th>\n",
       "      <th></th>\n",
       "      <th></th>\n",
       "      <th></th>\n",
       "      <th></th>\n",
       "      <th></th>\n",
       "    </tr>\n",
       "  </thead>\n",
       "  <tbody>\n",
       "    <tr>\n",
       "      <th>2017-12-29</th>\n",
       "      <td>100000000.0</td>\n",
       "      <td>0.0000e+00</td>\n",
       "      <td>100000000.0</td>\n",
       "      <td>0.0000e+00</td>\n",
       "      <td>4000000.0</td>\n",
       "      <td>0.0000e+00</td>\n",
       "      <td>0.0000e+00</td>\n",
       "    </tr>\n",
       "    <tr>\n",
       "      <th>2018-12-31</th>\n",
       "      <td>101134709.3154</td>\n",
       "      <td>1.1347e+06</td>\n",
       "      <td>101789246.5694</td>\n",
       "      <td>1.7892e+06</td>\n",
       "      <td>2035784.9314</td>\n",
       "      <td>-6.5454e+05</td>\n",
       "      <td>-6.5454e+05</td>\n",
       "    </tr>\n",
       "    <tr>\n",
       "      <th>2019-12-31</th>\n",
       "      <td>106400629.075</td>\n",
       "      <td>5.2659e+06</td>\n",
       "      <td>104473212.1906</td>\n",
       "      <td>2.6840e+06</td>\n",
       "      <td>2089464.2438</td>\n",
       "      <td>2.5820e+06</td>\n",
       "      <td>1.9274e+06</td>\n",
       "    </tr>\n",
       "    <tr>\n",
       "      <th>2020-12-31</th>\n",
       "      <td>111375389.8056</td>\n",
       "      <td>4.9748e+06</td>\n",
       "      <td>106129450.8702</td>\n",
       "      <td>1.6562e+06</td>\n",
       "      <td>2122589.0174</td>\n",
       "      <td>3.3185e+06</td>\n",
       "      <td>5.2459e+06</td>\n",
       "    </tr>\n",
       "    <tr>\n",
       "      <th>2021-12-31</th>\n",
       "      <td>111225030.102</td>\n",
       "      <td>-1.5036e+05</td>\n",
       "      <td>106240085.3441</td>\n",
       "      <td>1.1063e+05</td>\n",
       "      <td>2124801.7069</td>\n",
       "      <td>-2.6099e+05</td>\n",
       "      <td>4.9849e+06</td>\n",
       "    </tr>\n",
       "    <tr>\n",
       "      <th>2022-12-30</th>\n",
       "      <td>111652299.2732</td>\n",
       "      <td>4.2727e+05</td>\n",
       "      <td>106648204.9299</td>\n",
       "      <td>4.0812e+05</td>\n",
       "      <td>2132964.0986</td>\n",
       "      <td>1.9150e+04</td>\n",
       "      <td>5.0041e+06</td>\n",
       "    </tr>\n",
       "  </tbody>\n",
       "</table>\n",
       "</div>"
      ],
      "text/plain": [
       "                  long pos    long pnl       short pos   short pnl  \\\n",
       "date                                                                 \n",
       "2017-12-29     100000000.0  0.0000e+00     100000000.0  0.0000e+00   \n",
       "2018-12-31  101134709.3154  1.1347e+06  101789246.5694  1.7892e+06   \n",
       "2019-12-31   106400629.075  5.2659e+06  104473212.1906  2.6840e+06   \n",
       "2020-12-31  111375389.8056  4.9748e+06  106129450.8702  1.6562e+06   \n",
       "2021-12-31   111225030.102 -1.5036e+05  106240085.3441  1.1063e+05   \n",
       "2022-12-30  111652299.2732  4.2727e+05  106648204.9299  4.0812e+05   \n",
       "\n",
       "                 haircut   total pnl  cumulative pnl  \n",
       "date                                                  \n",
       "2017-12-29     4000000.0  0.0000e+00      0.0000e+00  \n",
       "2018-12-31  2035784.9314 -6.5454e+05     -6.5454e+05  \n",
       "2019-12-31  2089464.2438  2.5820e+06      1.9274e+06  \n",
       "2020-12-31  2122589.0174  3.3185e+06      5.2459e+06  \n",
       "2021-12-31  2124801.7069 -2.6099e+05      4.9849e+06  \n",
       "2022-12-30  2132964.0986  1.9150e+04      5.0041e+06  "
      ]
     },
     "execution_count": 15,
     "metadata": {},
     "output_type": "execute_result"
    }
   ],
   "source": [
    "PnL[\"long pnl\"] = PnL[\"long pos\"].diff().fillna(0)\n",
    "PnL[\"short pnl\"] = PnL[\"short pos\"].diff().fillna(0)\n",
    "PnL[\"total pnl\"] = PnL[\"long pnl\"] - PnL[\"short pnl\"] # - PnL[\"haircut\"]\n",
    "PnL.iloc[0, 5] = 0\n",
    "PnL[\"cumulative pnl\"] = PnL[\"total pnl\"].cumsum()\n",
    "PnL"
   ]
  },
  {
   "cell_type": "code",
   "execution_count": 19,
   "id": "3dae39a5",
   "metadata": {},
   "outputs": [
    {
     "name": "stdout",
     "output_type": "stream",
     "text": [
      "Total PnL: 125.10 % \n"
     ]
    }
   ],
   "source": [
    "total_pnl = PnL[\"cumulative pnl\"][-1] / 4000000.0 * 100\n",
    "print(\"Total PnL: {0:.2f} % \".format(total_pnl))"
   ]
  },
  {
   "attachments": {},
   "cell_type": "markdown",
   "id": "11f8d196",
   "metadata": {},
   "source": [
    "## 2.2\n",
    "\n",
    "How would this trade play out if the path of one-year spot rates equaled the forward rates observed in 2017?\n",
    "\n",
    "**Answers:** In the end, the portfolio is expected to have a net profit and loss (PnL) of zero, although it may experience fluctuations in gains and losses during the holding period. This is because the current value of the 5-year bond will continue to fluctuate differently from the forward rate observed in 2017 over time."
   ]
  },
  {
   "attachments": {},
   "cell_type": "markdown",
   "id": "7b9ea799",
   "metadata": {},
   "source": [
    "## 2.3\n",
    "\n",
    "Given Fact 3 of the *dynamic* (conditional) tests of EH in notebook W.5., do you expect that as of Dec 2022 the long-short trade above looks more or less favorable as of Dec 2022-2027 than it did as of Dec 2017-2022?\n",
    "\n",
    "**Answers:** Fact 3 demonstrates that when the forward spread is high, it provides a strong indication of potential returns on long-term bonds. As observed from the spread, the period between 2017-2022 has a higher forward-spot rate spread compared to the period between 2022-2027. As a result, the long-short trade mentioned above is expected to be less favorable from December 2022 to 2027, compared to the period from 2017 to 2022."
   ]
  },
  {
   "cell_type": "code",
   "execution_count": 20,
   "id": "9b65419e",
   "metadata": {},
   "outputs": [
    {
     "data": {
      "text/html": [
       "<div>\n",
       "<style scoped>\n",
       "    .dataframe tbody tr th:only-of-type {\n",
       "        vertical-align: middle;\n",
       "    }\n",
       "\n",
       "    .dataframe tbody tr th {\n",
       "        vertical-align: top;\n",
       "    }\n",
       "\n",
       "    .dataframe thead th {\n",
       "        text-align: right;\n",
       "    }\n",
       "</style>\n",
       "<table border=\"1\" class=\"dataframe\">\n",
       "  <thead>\n",
       "    <tr style=\"text-align: right;\">\n",
       "      <th></th>\n",
       "      <th>spread: 2017-12-29</th>\n",
       "    </tr>\n",
       "  </thead>\n",
       "  <tbody>\n",
       "    <tr>\n",
       "      <th>0</th>\n",
       "      <td>0.0000</td>\n",
       "    </tr>\n",
       "    <tr>\n",
       "      <th>1</th>\n",
       "      <td>0.0010</td>\n",
       "    </tr>\n",
       "    <tr>\n",
       "      <th>2</th>\n",
       "      <td>0.0020</td>\n",
       "    </tr>\n",
       "    <tr>\n",
       "      <th>3</th>\n",
       "      <td>0.0041</td>\n",
       "    </tr>\n",
       "    <tr>\n",
       "      <th>4</th>\n",
       "      <td>0.0036</td>\n",
       "    </tr>\n",
       "  </tbody>\n",
       "</table>\n",
       "</div>"
      ],
      "text/plain": [
       "   spread: 2017-12-29\n",
       "0              0.0000\n",
       "1              0.0010\n",
       "2              0.0020\n",
       "3              0.0041\n",
       "4              0.0036"
      ]
     },
     "execution_count": 20,
     "metadata": {},
     "output_type": "execute_result"
    }
   ],
   "source": [
    "pd.DataFrame(f[\"2017-12-29\"].values - spot_rate.loc[\"2017-12-29\"].values, columns=[\"spread: 2017-12-29\"])"
   ]
  },
  {
   "cell_type": "code",
   "execution_count": 21,
   "id": "3e48c9b2",
   "metadata": {},
   "outputs": [
    {
     "data": {
      "text/html": [
       "<div>\n",
       "<style scoped>\n",
       "    .dataframe tbody tr th:only-of-type {\n",
       "        vertical-align: middle;\n",
       "    }\n",
       "\n",
       "    .dataframe tbody tr th {\n",
       "        vertical-align: top;\n",
       "    }\n",
       "\n",
       "    .dataframe thead th {\n",
       "        text-align: right;\n",
       "    }\n",
       "</style>\n",
       "<table border=\"1\" class=\"dataframe\">\n",
       "  <thead>\n",
       "    <tr style=\"text-align: right;\">\n",
       "      <th></th>\n",
       "      <th>spread: 2022-12-30</th>\n",
       "    </tr>\n",
       "  </thead>\n",
       "  <tbody>\n",
       "    <tr>\n",
       "      <th>0</th>\n",
       "      <td>0.0000</td>\n",
       "    </tr>\n",
       "    <tr>\n",
       "      <th>1</th>\n",
       "      <td>-0.0027</td>\n",
       "    </tr>\n",
       "    <tr>\n",
       "      <th>2</th>\n",
       "      <td>-0.0048</td>\n",
       "    </tr>\n",
       "    <tr>\n",
       "      <th>3</th>\n",
       "      <td>-0.0031</td>\n",
       "    </tr>\n",
       "    <tr>\n",
       "      <th>4</th>\n",
       "      <td>-0.0028</td>\n",
       "    </tr>\n",
       "  </tbody>\n",
       "</table>\n",
       "</div>"
      ],
      "text/plain": [
       "   spread: 2022-12-30\n",
       "0              0.0000\n",
       "1             -0.0027\n",
       "2             -0.0048\n",
       "3             -0.0031\n",
       "4             -0.0028"
      ]
     },
     "execution_count": 21,
     "metadata": {},
     "output_type": "execute_result"
    }
   ],
   "source": [
    "pd.DataFrame(f[\"2022-12-30\"].values - spot_rate.loc[\"2022-12-30\"].values, columns=[\"spread: 2022-12-30\"])"
   ]
  },
  {
   "cell_type": "code",
   "execution_count": null,
   "id": "d9a2f982",
   "metadata": {},
   "outputs": [],
   "source": []
  }
 ],
 "metadata": {
  "hide_input": false,
  "kernelspec": {
   "display_name": "base",
   "language": "python",
   "name": "python3"
  },
  "language_info": {
   "codemirror_mode": {
    "name": "ipython",
    "version": 3
   },
   "file_extension": ".py",
   "mimetype": "text/x-python",
   "name": "python",
   "nbconvert_exporter": "python",
   "pygments_lexer": "ipython3",
   "version": "3.7.4"
  },
  "vscode": {
   "interpreter": {
    "hash": "8aba7c7331238ad8bef3d07aa03cf759b24ea56e2341769d4c660500293a6aca"
   }
  }
 },
 "nbformat": 4,
 "nbformat_minor": 5
}
