{
 "cells": [
  {
   "cell_type": "markdown",
   "id": "3e013a68",
   "metadata": {},
   "source": [
    "# Homework 3\n",
    "\n",
    "## FINM 37400 - 2023\n",
    "\n",
    "### UChicago Financial Mathematics\n",
    "\n",
    "* Mark Hendricks\n",
    "* hendricks@uchicago.edu"
   ]
  },
  {
   "cell_type": "markdown",
   "id": "ad9a8968",
   "metadata": {},
   "source": [
    "# 1 HBS Case: Fixed-Income Arbitrage in a Financial Crisis (C): Spread and Swap Spread in November 2008"
   ]
  },
  {
   "cell_type": "code",
   "execution_count": 2,
   "id": "55ecc9d7",
   "metadata": {},
   "outputs": [],
   "source": [
    "from datetime import datetime\n",
    "import pandas as pd\n",
    "import numpy as np\n",
    "\n",
    "pd.options.display.float_format = '{:,.2f}'.format"
   ]
  },
  {
   "attachments": {},
   "cell_type": "markdown",
   "id": "c4f31467",
   "metadata": {},
   "source": [
    "## Simplification of the setup\n",
    "\n",
    "The date is Nov 4, 2008.\n",
    "\n",
    "**Treasury bond**\n",
    "* Suppose the Treasury bond matures exactly 30 years later, on Nov 4, 2038 rather than May 15, 2008. \n",
    "* The YTM of this freshly issued treasury is 4.193\\% with a semiannual coupon of 4.5\\%, same as is given in the case. (So we're just changing the maturity date to simplify things, but keeping the market data.)\n",
    "\n",
    "**Swap**\n",
    "* The fixed leg of the swap pays semiannually, with swap rate of 4.2560\\%, as given in the case.\n",
    "* The floating leg of the swap also pays semiannually--not quarterly--such that the payment dates are identical on both legs. Thus, it also resets the floating rate semiannually, not quarterly.\n",
    "* The floating rate of the swap equals the repo rate used in the trade. Thus, these two rates cancel in the financing of the trade. (No need to consider the TED spread.) "
   ]
  },
  {
   "attachments": {},
   "cell_type": "markdown",
   "id": "1ae4b149",
   "metadata": {},
   "source": [
    "## 1.1\n",
    "\n",
    "List the projected cashflows on May 4, 2009, exactly six months into the trade, on the first coupon and swap date.\n",
    "\n",
    "**Answers:**\n",
    "\n",
    "The floating leg of the swap and the Repo cancel in the cashflows. "
   ]
  },
  {
   "cell_type": "code",
   "execution_count": 35,
   "id": "290aa6d3",
   "metadata": {},
   "outputs": [
    {
     "data": {
      "text/html": [
       "<div>\n",
       "<style scoped>\n",
       "    .dataframe tbody tr th:only-of-type {\n",
       "        vertical-align: middle;\n",
       "    }\n",
       "\n",
       "    .dataframe tbody tr th {\n",
       "        vertical-align: top;\n",
       "    }\n",
       "\n",
       "    .dataframe thead th {\n",
       "        text-align: right;\n",
       "    }\n",
       "</style>\n",
       "<table border=\"1\" class=\"dataframe\">\n",
       "  <thead>\n",
       "    <tr style=\"text-align: right;\">\n",
       "      <th></th>\n",
       "      <th>Cash Flow</th>\n",
       "    </tr>\n",
       "  </thead>\n",
       "  <tbody>\n",
       "    <tr>\n",
       "      <th>T bond</th>\n",
       "      <td>22,500,000.00</td>\n",
       "    </tr>\n",
       "    <tr>\n",
       "      <th>Repo</th>\n",
       "      <td>NaN</td>\n",
       "    </tr>\n",
       "    <tr>\n",
       "      <th>Swap(floating leg)</th>\n",
       "      <td>NaN</td>\n",
       "    </tr>\n",
       "    <tr>\n",
       "      <th>Swap(fixed leg)</th>\n",
       "      <td>-21,280,000.00</td>\n",
       "    </tr>\n",
       "    <tr>\n",
       "      <th>Net Payment</th>\n",
       "      <td>1,220,000.00</td>\n",
       "    </tr>\n",
       "  </tbody>\n",
       "</table>\n",
       "</div>"
      ],
      "text/plain": [
       "                        Cash Flow\n",
       "T bond              22,500,000.00\n",
       "Repo                          NaN\n",
       "Swap(floating leg)            NaN\n",
       "Swap(fixed leg)    -21,280,000.00\n",
       "Net Payment          1,220,000.00"
      ]
     },
     "execution_count": 35,
     "metadata": {},
     "output_type": "execute_result"
    }
   ],
   "source": [
    "idx = [\"T bond\", \"Repo\", \"Swap(floating leg)\", \"Swap(fixed leg)\", \"Net Payment\"]\n",
    "cashflow = [0.045/2*1000000000, np.nan, np.nan, -0.04256/2*1000000000, 0.045/2*1000000000-0.04256/2*1000000000]\n",
    "CashFlow = pd.DataFrame(cashflow, columns=[\"Cash Flow\"], index=idx)\n",
    "CashFlow"
   ]
  },
  {
   "attachments": {},
   "cell_type": "markdown",
   "id": "f20aa5eb",
   "metadata": {},
   "source": [
    "## 1.2\n",
    "\n",
    "What is the duration of...\n",
    "* the T-bond\n",
    "* the swap\n",
    "\n",
    "Remember that...\n",
    "* the swap can be decomposed into a fixed-rate bond and a floating-rate note\n",
    "* a floating-rate note has duration equal to the time until the next reset. Thus, at initialization, it has duration equal to 0.5 years.\n",
    "\n",
    "Is the duration for the \"paying-fixed\" swap positive or negative? Is it bigger or smaller in magnitude than the T-bond?\n",
    "\n",
    "For this problem, calculate the Macauley duration and the dollar (Macauley) duration.\n",
    "\n",
    "**Answers:**\n",
    "\n",
    "- DV01 for $10 million swap is $17,191\n",
    "- T-Bond Val01: 0.1746"
   ]
  },
  {
   "cell_type": "code",
   "execution_count": 84,
   "id": "d76c3a53",
   "metadata": {},
   "outputs": [],
   "source": [
    "# Use YTM to calculte duration\n",
    "def bp(cashflow, ytm, n, t):\n",
    "    bondprice = 0\n",
    "    for i in range(1, len(cashflow)+1):\n",
    "        bondprice += cashflow[i-1]/((1+ytm/n)**i)\n",
    "    return bondprice\n",
    "\n",
    "def cal_dura(coupon, ytm, n, t, bondprice=False):\n",
    "    num = int(n*t)\n",
    "    cashflow = np.array([coupon/n*100]*num)\n",
    "    cashflow[-1] += 100\n",
    "    if bondprice == False:\n",
    "        bondprice = bp(cashflow, ytm, n, t)\n",
    "    dura = 0\n",
    "    for i in range(1, len(cashflow)+1):\n",
    "        dura += i/2*cashflow[i-1]/((1+ytm/n)**i)\n",
    "    return dura/bondprice\n",
    "\n",
    "coupon = 100 * 0.045 / 2\n",
    "Cashflow = np.array([coupon]*60)\n",
    "Cashflow[-1] += 100\n",
    "dura_t_bond = cal_dura(0.045, 0.04193, 2, 30)\n",
    "bond_price = bp(Cashflow, 0.04193, 2, 30)\n",
    "dura_swap_fix = cal_dura(0.04256, 0.04256, 2, 30, 100)"
   ]
  },
  {
   "cell_type": "code",
   "execution_count": 79,
   "id": "f3e67f5a",
   "metadata": {},
   "outputs": [
    {
     "data": {
      "text/html": [
       "<div>\n",
       "<style scoped>\n",
       "    .dataframe tbody tr th:only-of-type {\n",
       "        vertical-align: middle;\n",
       "    }\n",
       "\n",
       "    .dataframe tbody tr th {\n",
       "        vertical-align: top;\n",
       "    }\n",
       "\n",
       "    .dataframe thead th {\n",
       "        text-align: right;\n",
       "    }\n",
       "</style>\n",
       "<table border=\"1\" class=\"dataframe\">\n",
       "  <thead>\n",
       "    <tr style=\"text-align: right;\">\n",
       "      <th></th>\n",
       "      <th>Case Reported Duration</th>\n",
       "      <th>Case Reported Dollar Duration</th>\n",
       "      <th>Calculated Duration</th>\n",
       "      <th>Calculated Dollar Duration</th>\n",
       "    </tr>\n",
       "  </thead>\n",
       "  <tbody>\n",
       "    <tr>\n",
       "      <th>T bond</th>\n",
       "      <td>17.46</td>\n",
       "      <td>1,836.27</td>\n",
       "      <td>17.08</td>\n",
       "      <td>1,797.43</td>\n",
       "    </tr>\n",
       "    <tr>\n",
       "      <th>Swap(floating leg)</th>\n",
       "      <td>0.50</td>\n",
       "      <td>50.00</td>\n",
       "      <td>0.50</td>\n",
       "      <td>50.00</td>\n",
       "    </tr>\n",
       "    <tr>\n",
       "      <th>Swap(fixed leg)</th>\n",
       "      <td>17.69</td>\n",
       "      <td>1,769.00</td>\n",
       "      <td>17.21</td>\n",
       "      <td>1,721.27</td>\n",
       "    </tr>\n",
       "    <tr>\n",
       "      <th>Swap</th>\n",
       "      <td>17.19</td>\n",
       "      <td>1,719.00</td>\n",
       "      <td>16.71</td>\n",
       "      <td>1,671.27</td>\n",
       "    </tr>\n",
       "    <tr>\n",
       "      <th>Net</th>\n",
       "      <td>0.27</td>\n",
       "      <td>117.27</td>\n",
       "      <td>0.37</td>\n",
       "      <td>125.41</td>\n",
       "    </tr>\n",
       "  </tbody>\n",
       "</table>\n",
       "</div>"
      ],
      "text/plain": [
       "                    Case Reported Duration  Case Reported Dollar Duration  \\\n",
       "T bond                               17.46                       1,836.27   \n",
       "Swap(floating leg)                    0.50                          50.00   \n",
       "Swap(fixed leg)                      17.69                       1,769.00   \n",
       "Swap                                 17.19                       1,719.00   \n",
       "Net                                   0.27                         117.27   \n",
       "\n",
       "                    Calculated Duration  Calculated Dollar Duration  \n",
       "T bond                            17.08                    1,797.43  \n",
       "Swap(floating leg)                 0.50                       50.00  \n",
       "Swap(fixed leg)                   17.21                    1,721.27  \n",
       "Swap                              16.71                    1,671.27  \n",
       "Net                                0.37                      125.41  "
      ]
     },
     "execution_count": 79,
     "metadata": {},
     "output_type": "execute_result"
    }
   ],
   "source": [
    "idx = [\"T bond\", \"Swap(floating leg)\", \"Swap(fixed leg)\", \"Swap\", \"Net\"]\n",
    "dura_df = pd.DataFrame(index=idx)\n",
    "TBond_dura = 17.46\n",
    "Swap_dura = 17.19\n",
    "TBond_price = 105.17\n",
    "# bond_price = 105\n",
    "dura_df[\"Case Reported Duration\"] = [TBond_dura, 0.5, Swap_dura+0.5, Swap_dura, TBond_dura-Swap_dura]\n",
    "dura_df[\"Case Reported Dollar Duration\"] = [TBond_dura*TBond_price, 50, (Swap_dura+0.5)*100, Swap_dura*100, TBond_dura*TBond_price-Swap_dura*100]\n",
    "dura_df[\"Calculated Duration\"] = [dura_t_bond, 0.5, dura_swap_fix, dura_swap_fix-0.5, dura_t_bond-(dura_swap_fix-0.5)]\n",
    "dura_df[\"Calculated Dollar Duration\"] = [dura_t_bond*bond_price, 50, dura_swap_fix*100, (dura_swap_fix-0.5)*100, dura_t_bond*TBond_price-(dura_swap_fix-0.5)*100]\n",
    "dura_df"
   ]
  },
  {
   "cell_type": "markdown",
   "id": "5b1fd4c0",
   "metadata": {},
   "source": [
    "## 1.3\n",
    "\n",
    "What hedge ratio should be used to balance the notional size of the Treasury bond with the notional size of the swap, such that it is a duration-neutral position?\n",
    "\n",
    "Specifically, if the trader enters the swap paying fixed on \\$500 million notional, how large of a position should they take in the Treasury bond?"
   ]
  },
  {
   "cell_type": "code",
   "execution_count": 126,
   "id": "064e0caa",
   "metadata": {},
   "outputs": [
    {
     "data": {
      "text/plain": [
       "0.9298159049268911"
      ]
     },
     "execution_count": 126,
     "metadata": {},
     "output_type": "execute_result"
    }
   ],
   "source": [
    "dura_swap = -(dura_swap_fix-0.5)\n",
    "# bond_price = 105\n",
    "ratio = -dura_swap*100/(dura_t_bond*bond_price)\n",
    "ratio"
   ]
  },
  {
   "cell_type": "code",
   "execution_count": 83,
   "id": "62ec0343",
   "metadata": {},
   "outputs": [
    {
     "data": {
      "text/plain": [
       "464907952.46344566"
      ]
     },
     "execution_count": 83,
     "metadata": {},
     "output_type": "execute_result"
    }
   ],
   "source": [
    "dura_swap = -(dura_swap_fix-0.5)\n",
    "-500*1000000*dura_swap*100/(dura_t_bond*bond_price)"
   ]
  },
  {
   "cell_type": "markdown",
   "id": "21ec3280",
   "metadata": {},
   "source": [
    "## 1.4\n",
    "\n",
    "Suppose it is May 4, 2009, exactly six months after putting the trade on.\n",
    "\n",
    "The spread is at -28 bps due to...\n",
    "* The YTM on a new 30-year bond has risen to 4.36\\%\n",
    "* The swap rate on a new 30-year swap has dropped to 4.08\\%\n",
    "\n",
    "Explain conceptually how this movement impacts the components of the trade."
   ]
  },
  {
   "attachments": {},
   "cell_type": "markdown",
   "id": "e2325c56",
   "metadata": {},
   "source": [
    "## 1.5\n",
    "\n",
    "Calculate the value of the position on May 4, 2009, immediately after the first coupon and swap payments and swap reset. \n",
    "\n",
    "* Calculate the revised price of the Treasury bond by assuming you can apply the (May 4) 30-year YTM as a discount rate to the 29.5 year bond. (We are just using this for a rough approximation. You know that good pricing would require a discount curve, but let's not get bogged down with that here.)\n",
    "\n",
    "\n",
    "* Calculate the value of the swap by decomposing it into a fixed-rate bond and a floating-rate bond.\n",
    "    * The 29.5 year fixed-rate leg is priced using the (May 4) 30-year swap rate as a discount rate.\n",
    "    * The floating-rate leg is priced at par given that floating-rate notes are par immediately after resets.\n",
    "    \n",
    "**Note**\n",
    "\n",
    "You are being asked to calculate these valuations using the exact formula between price, cashflows, and YTM discount rate. We are not simply approximating with duration, as we already know the position was set up with zero dollar duration.\n",
    "\n",
    "From the Discussion 1 notebook, we have this formula expressing a bond's price as a function of the coupon, $c$, and the YTM, $y_j$.\n",
    "\n",
    "$$\\begin{align*}\n",
    "P_j(t,T,c) = \\sum_{i=1}^{n-1}\\frac{100\\left(\\frac{c}{2}\\right)}{\\left(1+\\frac{y_j}{2}\\right)^{2(T_i-t)}} + \\frac{100\\left(1+\\frac{c}{2}\\right)}{\\left(1+\\frac{y_j}{2}\\right)^{2(T-t)}}\n",
    "\\end{align*}\n",
    "$$"
   ]
  },
  {
   "cell_type": "code",
   "execution_count": 109,
   "id": "93365c9c",
   "metadata": {},
   "outputs": [],
   "source": [
    "\n",
    "def pv(c_rate, ytm, n, t):\n",
    "    bondprice = 0\n",
    "    num = int(n*t)\n",
    "    cashflow = np.array([c_rate/n*100]*num)\n",
    "    cashflow[-1] += 100\n",
    "    for i in range(1, len(cashflow)+1):\n",
    "        bondprice += cashflow[i-1]/((1+ytm/n)**i)\n",
    "    return bondprice\n",
    "\n",
    "bond_coupon = 0.045\n",
    "bond_ytm = 0.0436\n",
    "T_bond_price = pv(bond_coupon, bond_ytm, 2, 29.5)\n",
    "\n",
    "swap_coupon = 0.04256\n",
    "swap_rate = 0.0408\n",
    "fixed_rate_leg = pv(swap_coupon, swap_rate, 2, 29.5)\n",
    "floating_rate_leg = 100\n",
    "swap_price = floating_rate_leg - fixed_rate_leg"
   ]
  },
  {
   "cell_type": "code",
   "execution_count": 110,
   "id": "7544c80a",
   "metadata": {},
   "outputs": [
    {
     "data": {
      "text/html": [
       "<div>\n",
       "<style scoped>\n",
       "    .dataframe tbody tr th:only-of-type {\n",
       "        vertical-align: middle;\n",
       "    }\n",
       "\n",
       "    .dataframe tbody tr th {\n",
       "        vertical-align: top;\n",
       "    }\n",
       "\n",
       "    .dataframe thead th {\n",
       "        text-align: right;\n",
       "    }\n",
       "</style>\n",
       "<table border=\"1\" class=\"dataframe\">\n",
       "  <thead>\n",
       "    <tr style=\"text-align: right;\">\n",
       "      <th></th>\n",
       "      <th>May 4 2009</th>\n",
       "    </tr>\n",
       "  </thead>\n",
       "  <tbody>\n",
       "    <tr>\n",
       "      <th>T-Bond</th>\n",
       "      <td>102.31</td>\n",
       "    </tr>\n",
       "    <tr>\n",
       "      <th>Fixed-leg Price</th>\n",
       "      <td>103.00</td>\n",
       "    </tr>\n",
       "    <tr>\n",
       "      <th>Floating-leg Price</th>\n",
       "      <td>100.00</td>\n",
       "    </tr>\n",
       "    <tr>\n",
       "      <th>Swap Price</th>\n",
       "      <td>-3.00</td>\n",
       "    </tr>\n",
       "  </tbody>\n",
       "</table>\n",
       "</div>"
      ],
      "text/plain": [
       "                    May 4 2009\n",
       "T-Bond                  102.31\n",
       "Fixed-leg Price         103.00\n",
       "Floating-leg Price      100.00\n",
       "Swap Price               -3.00"
      ]
     },
     "execution_count": 110,
     "metadata": {},
     "output_type": "execute_result"
    }
   ],
   "source": [
    "idx = [\"T-Bond\", \"Fixed-leg Price\", \"Floating-leg Price\", \"Swap Price\"]\n",
    "value = [T_bond_price, fixed_rate_leg, floating_rate_leg, swap_price]\n",
    "pd.DataFrame(data=value, columns=[\"May 4 2009\"], index=idx)"
   ]
  },
  {
   "cell_type": "code",
   "execution_count": 125,
   "id": "a0a86201",
   "metadata": {},
   "outputs": [
    {
     "data": {
      "text/plain": [
       "100.00000000000011"
      ]
     },
     "execution_count": 125,
     "metadata": {},
     "output_type": "execute_result"
    }
   ],
   "source": [
    "swap_coupon = 0.04256\n",
    "swap_rate = 0.04256\n",
    "fixed_rate_leg = pv(swap_coupon, swap_rate, 2, 29.5)\n",
    "fixed_rate_leg"
   ]
  },
  {
   "cell_type": "markdown",
   "id": "9a722d70",
   "metadata": {},
   "source": [
    "## 1.6\n",
    "\n",
    "Accounting for the change in value of the positions, as well as the 6-month cashflows paid on May 4, \n",
    "* what is the net profit and loss (pnl) of the position?\n",
    "* what is the return on the equity capital, considering that there was a 2\\% haircut (equity contribution) on the size of the initial treasury bond position."
   ]
  },
  {
   "cell_type": "code",
   "execution_count": 113,
   "id": "e9154efb",
   "metadata": {},
   "outputs": [
    {
     "data": {
      "text/plain": [
       "-0.9298159049268911"
      ]
     },
     "execution_count": 113,
     "metadata": {},
     "output_type": "execute_result"
    }
   ],
   "source": [
    "ratio"
   ]
  },
  {
   "cell_type": "code",
   "execution_count": 137,
   "id": "e62e0ebb",
   "metadata": {},
   "outputs": [
    {
     "data": {
      "text/plain": [
       "-28687393.94191092"
      ]
     },
     "execution_count": 137,
     "metadata": {},
     "output_type": "execute_result"
    }
   ],
   "source": [
    "cf = (bond_coupon * ratio - swap_coupon) * 100 / 2 \n",
    "price_change = (T_bond_price - bond_price) * ratio + (swap_price - 0)\n",
    "pnl = cf + price_change\n",
    "pnl = pnl * 500 * 1000000 / 100\n",
    "pnl"
   ]
  },
  {
   "cell_type": "code",
   "execution_count": 138,
   "id": "97630880",
   "metadata": {},
   "outputs": [
    {
     "data": {
      "text/plain": [
       "-3.0852767510108916"
      ]
     },
     "execution_count": 138,
     "metadata": {},
     "output_type": "execute_result"
    }
   ],
   "source": [
    "bond_pos = -500*1000000*dura_swap*100/(dura_t_bond*bond_price)\n",
    "pnl / (bond_pos * 0.02)"
   ]
  },
  {
   "cell_type": "code",
   "execution_count": 136,
   "id": "d469a6d4",
   "metadata": {},
   "outputs": [
    {
     "data": {
      "text/plain": [
       "464907952.46344566"
      ]
     },
     "execution_count": 136,
     "metadata": {},
     "output_type": "execute_result"
    }
   ],
   "source": [
    "bond_pos"
   ]
  },
  {
   "cell_type": "code",
   "execution_count": null,
   "id": "e7c4ffdc",
   "metadata": {},
   "outputs": [],
   "source": []
  }
 ],
 "metadata": {
  "hide_input": false,
  "kernelspec": {
   "display_name": "Python 3",
   "language": "python",
   "name": "python3"
  },
  "language_info": {
   "codemirror_mode": {
    "name": "ipython",
    "version": 3
   },
   "file_extension": ".py",
   "mimetype": "text/x-python",
   "name": "python",
   "nbconvert_exporter": "python",
   "pygments_lexer": "ipython3",
   "version": "3.10.9 (v3.10.9:1dd9be6584, Dec  6 2022, 14:37:36) [Clang 13.0.0 (clang-1300.0.29.30)]"
  },
  "vscode": {
   "interpreter": {
    "hash": "aee8b7b246df8f9039afb4144a1f6fd8d2ca17a180786b69acc140d282b71a49"
   }
  }
 },
 "nbformat": 4,
 "nbformat_minor": 5
}
