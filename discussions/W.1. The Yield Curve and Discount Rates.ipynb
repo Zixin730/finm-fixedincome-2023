{
 "cells": [
  {
   "cell_type": "code",
   "execution_count": null,
   "metadata": {},
   "outputs": [],
   "source": []
  }
 ],
 "metadata": {
  "kernelspec": {
   "display_name": "base",
   "language": "python",
   "name": "python3"
  },
  "language_info": {
   "name": "python",
   "version": "3.7.4 (default, Aug 13 2019, 15:17:50) \n[Clang 4.0.1 (tags/RELEASE_401/final)]"
  },
  "orig_nbformat": 4,
  "vscode": {
   "interpreter": {
    "hash": "8aba7c7331238ad8bef3d07aa03cf759b24ea56e2341769d4c660500293a6aca"
   }
  }
 },
 "nbformat": 4,
 "nbformat_minor": 2
}
